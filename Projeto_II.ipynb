{
  "nbformat": 4,
  "nbformat_minor": 0,
  "metadata": {
    "colab": {
      "provenance": [],
      "mount_file_id": "1pXWK99IoSLg9g0_iw73UJ1BRZcZltC9q",
      "authorship_tag": "ABX9TyPCsjmnVFwEJeJODQKlcOeX",
      "include_colab_link": true
    },
    "kernelspec": {
      "name": "python3",
      "display_name": "Python 3"
    },
    "language_info": {
      "name": "python"
    }
  },
  "cells": [
    {
      "cell_type": "markdown",
      "metadata": {
        "id": "view-in-github",
        "colab_type": "text"
      },
      "source": [
        "<a href=\"https://colab.research.google.com/github/samvalentim/CursoCienciasDeDados/blob/main/Projeto_II.ipynb\" target=\"_parent\"><img src=\"https://colab.research.google.com/assets/colab-badge.svg\" alt=\"Open In Colab\"/></a>"
      ]
    },
    {
      "cell_type": "markdown",
      "source": [
        "Importação das Bibliotecas Tensorflow"
      ],
      "metadata": {
        "id": "OppOizPstL_L"
      }
    },
    {
      "cell_type": "code",
      "execution_count": 1,
      "metadata": {
        "id": "IvN_IXGhnDOc"
      },
      "outputs": [],
      "source": [
        "import tensorflow as tf\n",
        "from tensorflow import keras\n",
        "from tensorflow.keras import layers\n",
        "from tensorflow.keras.preprocessing.image import ImageDataGenerator"
      ]
    },
    {
      "cell_type": "markdown",
      "source": [
        "Conectando nos diretórios"
      ],
      "metadata": {
        "id": "MoSk_vUTtQ6X"
      }
    },
    {
      "cell_type": "code",
      "source": [
        "train_dir = '/content/drive/MyDrive/Projeto II/Bases/train'\n",
        "validation_dir = '/content/drive/MyDrive/Projeto II/Bases/val'\n",
        "test_dir = '/content/drive/MyDrive/Projeto II/Bases/test'"
      ],
      "metadata": {
        "id": "Jd8OqiYJniWV"
      },
      "execution_count": 2,
      "outputs": []
    },
    {
      "cell_type": "markdown",
      "source": [
        "Definindo parâmetros"
      ],
      "metadata": {
        "id": "lU20I2yLtY_o"
      }
    },
    {
      "cell_type": "code",
      "source": [
        "batch_size = 32\n",
        "epochs = 10\n",
        "input_shape = (150, 150, 3)"
      ],
      "metadata": {
        "id": "sbQu57QXor9i"
      },
      "execution_count": 3,
      "outputs": []
    },
    {
      "cell_type": "markdown",
      "source": [
        "Gerador de dados de treinamento"
      ],
      "metadata": {
        "id": "Bqv1kzMjthxU"
      }
    },
    {
      "cell_type": "code",
      "source": [
        "train_datagen = ImageDataGenerator(\n",
        "    rescale=1.0 / 255.0,\n",
        "    rotation_range=40,\n",
        "    width_shift_range=0.2,\n",
        "    height_shift_range=0.2,\n",
        "    shear_range=0.2,\n",
        "    zoom_range=0.2,\n",
        "    horizontal_flip=True,\n",
        "    fill_mode='nearest'\n",
        ")"
      ],
      "metadata": {
        "id": "b9H9DY8Lov5E"
      },
      "execution_count": 4,
      "outputs": []
    },
    {
      "cell_type": "markdown",
      "source": [
        "Carregamento dos dados de treino, teste e validação"
      ],
      "metadata": {
        "id": "BjVxXo2JtoF4"
      }
    },
    {
      "cell_type": "code",
      "source": [
        "validation_datagen = ImageDataGenerator(rescale=1.0 / 255.0)\n",
        "test_datagen = ImageDataGenerator(rescale=1.0 / 255.0)"
      ],
      "metadata": {
        "id": "uDb8zdOtoxLl"
      },
      "execution_count": 5,
      "outputs": []
    },
    {
      "cell_type": "code",
      "source": [
        "train_generator = train_datagen.flow_from_directory(\n",
        "    train_dir,\n",
        "    target_size=input_shape[:2],\n",
        "    batch_size=batch_size,\n",
        "    class_mode='categorical'\n",
        ")"
      ],
      "metadata": {
        "colab": {
          "base_uri": "https://localhost:8080/"
        },
        "id": "p4nXTuAMo1qC",
        "outputId": "4fce31a0-3022-4112-b9e7-3b360328f41f"
      },
      "execution_count": 8,
      "outputs": [
        {
          "output_type": "stream",
          "name": "stdout",
          "text": [
            "Found 532 images belonging to 4 classes.\n"
          ]
        }
      ]
    },
    {
      "cell_type": "code",
      "source": [
        "validation_generator = validation_datagen.flow_from_directory(\n",
        "    validation_dir,\n",
        "    target_size=input_shape[:2],\n",
        "    batch_size=batch_size,\n",
        "    class_mode='categorical'\n",
        ")"
      ],
      "metadata": {
        "colab": {
          "base_uri": "https://localhost:8080/"
        },
        "id": "MvIscwu_p2TS",
        "outputId": "53f49066-4508-4b86-d890-6e12f7261985"
      },
      "execution_count": 9,
      "outputs": [
        {
          "output_type": "stream",
          "name": "stdout",
          "text": [
            "Found 253 images belonging to 4 classes.\n"
          ]
        }
      ]
    },
    {
      "cell_type": "code",
      "source": [
        "test_generator = test_datagen.flow_from_directory(\n",
        "    test_dir,\n",
        "    target_size=input_shape[:2],\n",
        "    batch_size=batch_size,\n",
        "    class_mode='categorical'\n",
        ")"
      ],
      "metadata": {
        "colab": {
          "base_uri": "https://localhost:8080/"
        },
        "id": "JPOjIxsQp5bn",
        "outputId": "2586673f-8e17-40ad-863b-7f83cc50ff69"
      },
      "execution_count": 10,
      "outputs": [
        {
          "output_type": "stream",
          "name": "stdout",
          "text": [
            "Found 103 images belonging to 4 classes.\n"
          ]
        }
      ]
    },
    {
      "cell_type": "markdown",
      "source": [
        "Criação do modelo de rede neural convolucional simples"
      ],
      "metadata": {
        "id": "tWXPzfe3tx70"
      }
    },
    {
      "cell_type": "code",
      "source": [
        "model = keras.Sequential([\n",
        "    layers.Conv2D(32, (3, 3), activation='relu', input_shape=input_shape),\n",
        "    layers.MaxPooling2D(2, 2),\n",
        "    layers.Conv2D(64, (3, 3), activation='relu'),\n",
        "    layers.MaxPooling2D(2, 2),\n",
        "    layers.Conv2D(128, (3, 3), activation='relu'),\n",
        "    layers.MaxPooling2D(2, 2),\n",
        "    layers.Flatten(),\n",
        "    layers.Dense(128, activation='relu'),\n",
        "    layers.Dense(4, activation='softmax')  # 4 classes de plantas de algodão\n",
        "])"
      ],
      "metadata": {
        "id": "sbobdURMp8Bn"
      },
      "execution_count": 11,
      "outputs": []
    },
    {
      "cell_type": "markdown",
      "source": [
        "Compilação do modelo"
      ],
      "metadata": {
        "id": "S8vDGhPBt2H3"
      }
    },
    {
      "cell_type": "code",
      "source": [
        "model.compile(optimizer='adam',\n",
        "              loss='categorical_crossentropy',\n",
        "              metrics=['accuracy'])"
      ],
      "metadata": {
        "id": "CCBMtlmzp-kX"
      },
      "execution_count": 12,
      "outputs": []
    },
    {
      "cell_type": "markdown",
      "source": [
        "Treino do modelo"
      ],
      "metadata": {
        "id": "gvxTm8Kot42x"
      }
    },
    {
      "cell_type": "code",
      "source": [
        "history = model.fit(\n",
        "    train_generator,\n",
        "    steps_per_epoch=train_generator.samples // batch_size,\n",
        "    epochs=epochs,\n",
        "    validation_data=validation_generator,\n",
        "    validation_steps=validation_generator.samples // batch_size\n",
        ")"
      ],
      "metadata": {
        "colab": {
          "base_uri": "https://localhost:8080/"
        },
        "id": "rGZAZqz2qB3q",
        "outputId": "6c28ae3a-fa68-4fe1-dc6c-58508e578adb"
      },
      "execution_count": 13,
      "outputs": [
        {
          "output_type": "stream",
          "name": "stdout",
          "text": [
            "Epoch 1/10\n",
            "16/16 [==============================] - 201s 13s/step - loss: 0.8837 - accuracy: 0.4940 - val_loss: 2.6555 - val_accuracy: 0.1875\n",
            "Epoch 2/10\n",
            "16/16 [==============================] - 33s 2s/step - loss: 0.6802 - accuracy: 0.5700 - val_loss: 8.6061 - val_accuracy: 0.1741\n",
            "Epoch 3/10\n",
            "16/16 [==============================] - 32s 2s/step - loss: 0.6603 - accuracy: 0.6260 - val_loss: 3.8240 - val_accuracy: 0.3571\n",
            "Epoch 4/10\n",
            "16/16 [==============================] - 33s 2s/step - loss: 0.5686 - accuracy: 0.7140 - val_loss: 6.7563 - val_accuracy: 0.3527\n",
            "Epoch 5/10\n",
            "16/16 [==============================] - 33s 2s/step - loss: 0.5048 - accuracy: 0.7820 - val_loss: 4.9570 - val_accuracy: 0.3839\n",
            "Epoch 6/10\n",
            "16/16 [==============================] - 33s 2s/step - loss: 0.4305 - accuracy: 0.8100 - val_loss: 6.1823 - val_accuracy: 0.3616\n",
            "Epoch 7/10\n",
            "16/16 [==============================] - 33s 2s/step - loss: 0.3885 - accuracy: 0.8340 - val_loss: 6.7212 - val_accuracy: 0.3661\n",
            "Epoch 8/10\n",
            "16/16 [==============================] - 33s 2s/step - loss: 0.3401 - accuracy: 0.8520 - val_loss: 6.4789 - val_accuracy: 0.3705\n",
            "Epoch 9/10\n",
            "16/16 [==============================] - 33s 2s/step - loss: 0.2964 - accuracy: 0.8680 - val_loss: 6.5593 - val_accuracy: 0.3661\n",
            "Epoch 10/10\n",
            "16/16 [==============================] - 34s 2s/step - loss: 0.3536 - accuracy: 0.8600 - val_loss: 5.8341 - val_accuracy: 0.3929\n"
          ]
        }
      ]
    },
    {
      "cell_type": "markdown",
      "source": [
        "Avaliação do modelo"
      ],
      "metadata": {
        "id": "BZspFfARuQRB"
      }
    },
    {
      "cell_type": "code",
      "source": [
        "test_loss, test_acc = model.evaluate(test_generator)\n",
        "print(f'Acurácia no conjunto de teste: {test_acc}')"
      ],
      "metadata": {
        "colab": {
          "base_uri": "https://localhost:8080/"
        },
        "id": "-7H5ZV21t-1q",
        "outputId": "f8b4a0aa-ead4-46ef-8b12-b940af1da0fb"
      },
      "execution_count": 15,
      "outputs": [
        {
          "output_type": "stream",
          "name": "stdout",
          "text": [
            "4/4 [==============================] - 28s 9s/step - loss: 5.5905 - accuracy: 0.4466\n",
            "Acurácia no conjunto de teste: 0.446601927280426\n"
          ]
        }
      ]
    },
    {
      "cell_type": "markdown",
      "source": [
        "Save do modelo treinado"
      ],
      "metadata": {
        "id": "Vii9J9MjuT9o"
      }
    },
    {
      "cell_type": "code",
      "source": [
        "model.save('modelo_reconhecimento_algodoes.h5')"
      ],
      "metadata": {
        "colab": {
          "base_uri": "https://localhost:8080/"
        },
        "id": "SAXr3ifds2Zy",
        "outputId": "b770c0fe-516d-4457-a11d-75492d444087"
      },
      "execution_count": 14,
      "outputs": [
        {
          "output_type": "stream",
          "name": "stderr",
          "text": [
            "/usr/local/lib/python3.10/dist-packages/keras/src/engine/training.py:3079: UserWarning: You are saving your model as an HDF5 file via `model.save()`. This file format is considered legacy. We recommend using instead the native Keras format, e.g. `model.save('my_model.keras')`.\n",
            "  saving_api.save_model(\n"
          ]
        }
      ]
    }
  ]
}